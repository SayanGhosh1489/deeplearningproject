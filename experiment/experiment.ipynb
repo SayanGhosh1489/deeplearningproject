{
 "cells": [
  {
   "cell_type": "code",
   "execution_count": null,
   "metadata": {},
   "outputs": [],
   "source": [
    "from Xray.pipeline.training_pipeline import TrainPipeline\n",
    "from Xray.entity.artifact_entity import DataIngestionArtifact,DataTransformationArtifact\n",
    "from Xray.entity.config_entity import ModelEvaluationConfig\n",
    "from Xray.components.model_evaluation import ModelEvaluation\n",
    "from torch.utils.data import DataLoader\n",
    "# data_artifact = DataTransformationArtifact()\n",
    "\n",
    "# pipe = TrainPipeline()\n",
    "\n"
   ]
  },
  {
   "cell_type": "code",
   "execution_count": null,
   "metadata": {},
   "outputs": [],
   "source": [
    "train_path = r\"D:\\Projects\\deeplearningproject\\artifact\\11_05_2024_23_13_14\\data_transformation\\train_transforms.pkl\"\n",
    "test_path = r\"D:\\Projects\\deeplearningproject\\artifact\\11_05_2024_23_13_14\\data_transformation\\test_transforms.pkl\"\n",
    "model_path = r\"artifact/11_05_2024_23_13_14/trained_model/model.pt\"\n",
    "train_data=DataLoader(train_path)\n",
    "test_data = DataLoader(test_path)\n",
    "data_artifact = DataTransformationArtifact(test_transform_file_path=test_path,\n",
    "                                           train_transform_file_path=train_path,\n",
    "                                           transformed_test_object=test_data,\n",
    "                                           transformed_train_object=train_data)\n",
    "\n",
    "config = ModelEvaluationConfig()"
   ]
  },
  {
   "cell_type": "code",
   "execution_count": 36,
   "metadata": {},
   "outputs": [
    {
     "data": {
      "text/plain": [
       "ModelEvaluationArtifact(model_accuracy=None)"
      ]
     },
     "execution_count": 36,
     "metadata": {},
     "output_type": "execute_result"
    }
   ],
   "source": [
    "model_eval =ModelEvaluation(data_transformation_artifact=data_artifact,\n",
    "                            model_evaluation_config=config,\n",
    "                            model_training_artifact=model_path)\n",
    "model_eval.initiate_model_evaluation()"
   ]
  },
  {
   "cell_type": "code",
   "execution_count": 2,
   "metadata": {},
   "outputs": [
    {
     "data": {
      "text/plain": [
       "'D:\\\\Projects\\\\deeplearningproject\\\\artifact\\\\11_05_2024_08_32_32\\\\data_ingestion\\\\data\\\\test'"
      ]
     },
     "execution_count": 2,
     "metadata": {},
     "output_type": "execute_result"
    }
   ],
   "source": [
    "artifact.test_file_path"
   ]
  },
  {
   "cell_type": "code",
   "execution_count": null,
   "metadata": {},
   "outputs": [],
   "source": [
    "data_artifact = pipe.start_model_trainer(data_ingestion_artifact=artifact)"
   ]
  },
  {
   "cell_type": "code",
   "execution_count": 16,
   "metadata": {},
   "outputs": [
    {
     "data": {
      "text/plain": [
       "True"
      ]
     },
     "execution_count": 16,
     "metadata": {},
     "output_type": "execute_result"
    }
   ],
   "source": [
    "import os\n",
    "os.path.exists(artifact.train_file_path)"
   ]
  },
  {
   "cell_type": "code",
   "execution_count": 4,
   "metadata": {},
   "outputs": [
    {
     "data": {
      "text/plain": [
       "'artifact\\\\11_05_2024_08_55_10\\\\data_transformation\\\\test_transforms.pkl'"
      ]
     },
     "execution_count": 4,
     "metadata": {},
     "output_type": "execute_result"
    }
   ],
   "source": [
    "data_artifact.test_transform_file_path"
   ]
  },
  {
   "cell_type": "code",
   "execution_count": null,
   "metadata": {},
   "outputs": [],
   "source": []
  }
 ],
 "metadata": {
  "kernelspec": {
   "display_name": "Python 3",
   "language": "python",
   "name": "python3"
  },
  "language_info": {
   "codemirror_mode": {
    "name": "ipython",
    "version": 3
   },
   "file_extension": ".py",
   "mimetype": "text/x-python",
   "name": "python",
   "nbconvert_exporter": "python",
   "pygments_lexer": "ipython3",
   "version": "3.8.20"
  }
 },
 "nbformat": 4,
 "nbformat_minor": 2
}
