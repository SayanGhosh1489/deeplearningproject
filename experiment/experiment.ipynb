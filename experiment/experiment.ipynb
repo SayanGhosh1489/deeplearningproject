{
 "cells": [
  {
   "cell_type": "code",
   "execution_count": 1,
   "metadata": {},
   "outputs": [],
   "source": [
    "from Xray.pipeline.training_pipeline import TrainPipeline\n",
    "from Xray.entity.artifact_entity import DataIngestionArtifact\n",
    "\n",
    "artifact = DataIngestionArtifact(train_file_path=r\"D:\\Projects\\deeplearningproject\\artifact\\11_05_2024_08_32_32\\data_ingestion\\data\\train\",\n",
    "                                 test_file_path=r\"D:\\Projects\\deeplearningproject\\artifact\\11_05_2024_08_32_32\\data_ingestion\\data\\test\")\n",
    "\n",
    "pipe = TrainPipeline()\n",
    "\n"
   ]
  },
  {
   "cell_type": "code",
   "execution_count": 2,
   "metadata": {},
   "outputs": [
    {
     "data": {
      "text/plain": [
       "'D:\\\\Projects\\\\deeplearningproject\\\\artifact\\\\11_05_2024_08_32_32\\\\data_ingestion\\\\data\\\\test'"
      ]
     },
     "execution_count": 2,
     "metadata": {},
     "output_type": "execute_result"
    }
   ],
   "source": [
    "artifact.test_file_path"
   ]
  },
  {
   "cell_type": "code",
   "execution_count": 3,
   "metadata": {},
   "outputs": [],
   "source": [
    "data_artifact = pipe.start_data_transformation(data_ingestion_artifact=artifact)"
   ]
  },
  {
   "cell_type": "code",
   "execution_count": 16,
   "metadata": {},
   "outputs": [
    {
     "data": {
      "text/plain": [
       "True"
      ]
     },
     "execution_count": 16,
     "metadata": {},
     "output_type": "execute_result"
    }
   ],
   "source": [
    "import os\n",
    "os.path.exists(artifact.train_file_path)"
   ]
  },
  {
   "cell_type": "code",
   "execution_count": 4,
   "metadata": {},
   "outputs": [
    {
     "data": {
      "text/plain": [
       "'artifact\\\\11_05_2024_08_55_10\\\\data_transformation\\\\test_transforms.pkl'"
      ]
     },
     "execution_count": 4,
     "metadata": {},
     "output_type": "execute_result"
    }
   ],
   "source": [
    "data_artifact.test_transform_file_path"
   ]
  },
  {
   "cell_type": "code",
   "execution_count": null,
   "metadata": {},
   "outputs": [],
   "source": []
  }
 ],
 "metadata": {
  "kernelspec": {
   "display_name": "Python 3",
   "language": "python",
   "name": "python3"
  },
  "language_info": {
   "codemirror_mode": {
    "name": "ipython",
    "version": 3
   },
   "file_extension": ".py",
   "mimetype": "text/x-python",
   "name": "python",
   "nbconvert_exporter": "python",
   "pygments_lexer": "ipython3",
   "version": "3.8.20"
  }
 },
 "nbformat": 4,
 "nbformat_minor": 2
}
